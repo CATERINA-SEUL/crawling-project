{
 "cells": [
  {
   "cell_type": "markdown",
   "metadata": {},
   "source": [
    "#### Wavve\n",
    "\n",
    "---"
   ]
  },
  {
   "cell_type": "code",
   "execution_count": 2,
   "metadata": {},
   "outputs": [],
   "source": [
    "import requests\n",
    "import pandas as pd\n",
    "import json\n",
    "from bs4 import BeautifulSoup"
   ]
  },
  {
   "cell_type": "markdown",
   "metadata": {},
   "source": [
    "#### 1. 프로젝트 생성"
   ]
  },
  {
   "cell_type": "code",
   "execution_count": 4,
   "metadata": {},
   "outputs": [
    {
     "name": "stdout",
     "output_type": "stream",
     "text": [
      "New Scrapy project 'wavve', using template directory '/home/ubuntu/.pyenv/versions/3.6.9/envs/python3/lib/python3.6/site-packages/scrapy/templates/project', created in:\r\n",
      "    /home/ubuntu/python3/notebook/crawling/wavve\r\n",
      "\r\n",
      "You can start your first spider with:\r\n",
      "    cd wavve\r\n",
      "    scrapy genspider example example.com\r\n"
     ]
    }
   ],
   "source": [
    "!scrapy startproject wavve"
   ]
  },
  {
   "cell_type": "code",
   "execution_count": 6,
   "metadata": {},
   "outputs": [
    {
     "name": "stdout",
     "output_type": "stream",
     "text": [
      "/bin/sh: 1: tree: not found\r\n"
     ]
    }
   ],
   "source": [
    "!tree wavve"
   ]
  },
  {
   "cell_type": "markdown",
   "metadata": {},
   "source": [
    "#### 2. item.py 수정"
   ]
  },
  {
   "cell_type": "code",
   "execution_count": 10,
   "metadata": {},
   "outputs": [
    {
     "name": "stdout",
     "output_type": "stream",
     "text": [
      "Overwriting wavve/wavve/items.py\n"
     ]
    }
   ],
   "source": [
    "%%writefile wavve/wavve/items.py\n",
    "import scrapy\n",
    "\n",
    "class WavveItem(scrapy.Item):\n",
    "    title = scrapy.Field()\n",
    "    episode = scrapy.Field()\n",
    "    date = scrapy.Field()"
   ]
  },
  {
   "cell_type": "markdown",
   "metadata": {},
   "source": [
    "#### 3. spider.py 생성"
   ]
  },
  {
   "cell_type": "code",
   "execution_count": 32,
   "metadata": {},
   "outputs": [
    {
     "name": "stdout",
     "output_type": "stream",
     "text": [
      "Overwriting ./wavve/wavve/spiders/spider.py\n"
     ]
    }
   ],
   "source": [
    "%%writefile ./wavve/wavve/spiders/spider.py\n",
    "\n",
    "import scrapy\n",
    "import json\n",
    "\n",
    "from wavve.items import WavveItem\n",
    "\n",
    "class Spider(scrapy.Spider):\n",
    "    \n",
    "    name = 'Wavve'\n",
    "    \n",
    "    def __init__(self, **kwargs):\n",
    "        self.base_url = \"https://apis.pooq.co.kr/cf/vod/popularcontents?WeekDay=all&broadcastid=6339&came=broadcast&contenttype=vod&genre={}\".format(kwargs[\"category\"])\n",
    "        self.start_urls = []\n",
    "        for page in range(1,11):\n",
    "            offset = (page - 1) *20\n",
    "            \n",
    "            self.start_urls.append(self.base_url + f\"&limit=20&offset={offset}&orderby=viewtime&page={page}&uiparent=GN2-VN2&uirank=2&uitype=VN2&apikey=apikey&credential=none&device=pc&drm=wm&partner=pooq&pooqzone=none&region=kor&targetage=auto\")\n",
    "\n",
    "        super().__init__(**kwargs)\n",
    "        \n",
    "        \n",
    "    def start_requests(self):\n",
    "        for url in self.start_urls:\n",
    "            yield scrapy.Request(url = url, callback=self.get_content)\n",
    "            \n",
    "    def get_content(self, response):\n",
    "        for data in json.loads(response.body_as_unicode())['cell_toplist']['celllist']:\n",
    "            title = data['title_list'][0]['text']\n",
    "            count = data['title_list'][1]['text'].split('$')[0]\n",
    "            try :\n",
    "                date = data['title_list'][1]['text'].split('$')[2]\n",
    "            except:\n",
    "                count = 0\n",
    "                date = data['title_list'][1]['text'].split('$')[0]\n",
    "            \n",
    "            item = WavveItem()\n",
    "            item['title'] = title\n",
    "            item['episode'] = count\n",
    "            item['date'] = date\n",
    "            \n",
    "            yield item\n",
    "        "
   ]
  },
  {
   "cell_type": "code",
   "execution_count": 39,
   "metadata": {},
   "outputs": [
    {
     "name": "stdout",
     "output_type": "stream",
     "text": [
      "Overwriting wavve/run.sh\n"
     ]
    }
   ],
   "source": [
    "%%writefile wavve/run.sh\n",
    "cd wavve\n",
    "scrapy crawl Wavve -o wavve_all.csv -a category=all\n",
    "scrapy crawl Wavve -o wavve_drama.csv -a category=01\n",
    "scrapy crawl Wavve -o wavve_ent.csv -a category=02"
   ]
  },
  {
   "cell_type": "code",
   "execution_count": 14,
   "metadata": {},
   "outputs": [],
   "source": [
    "!chmod 764 wavve/run.sh"
   ]
  },
  {
   "cell_type": "code",
   "execution_count": 15,
   "metadata": {},
   "outputs": [
    {
     "name": "stdout",
     "output_type": "stream",
     "text": [
      "-rwxrw-r-- 1 ubuntu ubuntu 165 Mar 18 12:08 wavve/run.sh\r\n"
     ]
    }
   ],
   "source": [
    "!ls -al wavve/run.sh"
   ]
  },
  {
   "cell_type": "code",
   "execution_count": 40,
   "metadata": {},
   "outputs": [
    {
     "name": "stdout",
     "output_type": "stream",
     "text": [
      "Overwriting ./wavve/wavve/mongodb.py\n"
     ]
    }
   ],
   "source": [
    "%%writefile ./wavve/wavve/mongodb.py\n",
    "import pymongo\n",
    "\n",
    "client = pymongo.MongoClient('mongodb://id:pw@ip')\n",
    "db = client.wavve_server\n",
    "collection = db.items"
   ]
  },
  {
   "cell_type": "code",
   "execution_count": 41,
   "metadata": {},
   "outputs": [
    {
     "name": "stdout",
     "output_type": "stream",
     "text": [
      "Overwriting ./wavve/wavve/pipelines.py\n"
     ]
    }
   ],
   "source": [
    "%%writefile ./wavve/wavve/pipelines.py\n",
    "from .mongodb import collection\n",
    "\n",
    "class WavvePipeline(object):\n",
    "    def process_item(self, item, spider):\n",
    "        data = {\n",
    "            \n",
    "            'title' : item['title'],\n",
    "            'count' : item['episode'],\n",
    "            'date' : item['date'],\n",
    "\n",
    "        }\n",
    "        \n",
    "        collection.insert(data)\n",
    "        \n",
    "        return item"
   ]
  },
  {
   "cell_type": "code",
   "execution_count": 23,
   "metadata": {},
   "outputs": [],
   "source": [
    "!echo \"ITEM_PIPELINES = {\\n\" >> wavve/wavve/settings.py '\\n wavve.pipelines.WavvePipeline' : 300, \"}\" >> wavve/wavve/settings.py"
   ]
  },
  {
   "cell_type": "code",
   "execution_count": 25,
   "metadata": {},
   "outputs": [
    {
     "name": "stdout",
     "output_type": "stream",
     "text": [
      "#HTTPCACHE_DIR = 'httpcache'\r\n",
      "#HTTPCACHE_IGNORE_HTTP_CODES = []\r\n",
      "#HTTPCACHE_STORAGE = 'scrapy.extensions.httpcache.FilesystemCacheStorage'\r\n",
      "ITEM_PIPELINES = {\r\n",
      " 'wavve.pipelines.WavvePipeline' : 300, }\r\n"
     ]
    }
   ],
   "source": [
    "!tail -n 5 wavve/wavve/settings.py"
   ]
  },
  {
   "cell_type": "code",
   "execution_count": null,
   "metadata": {},
   "outputs": [],
   "source": [
    "!./wavve/run.sh"
   ]
  },
  {
   "cell_type": "code",
   "execution_count": 54,
   "metadata": {},
   "outputs": [],
   "source": [
    "categories = {'all' : 'all' , '01' : 'drama' ,'02' : 'ent'}"
   ]
  },
  {
   "cell_type": "code",
   "execution_count": 55,
   "metadata": {},
   "outputs": [],
   "source": [
    "dfs = [pd.read_csv(\"wavve/wavve_{}.csv\".format(category)) for category in categories.values()]"
   ]
  },
  {
   "cell_type": "code",
   "execution_count": 56,
   "metadata": {
    "scrolled": true
   },
   "outputs": [
    {
     "data": {
      "text/plain": [
       "[('all', 200), ('drama', 200), ('ent', 200)]"
      ]
     },
     "execution_count": 56,
     "metadata": {},
     "output_type": "execute_result"
    }
   ],
   "source": [
    "[(category, len(df)) for category, df in zip(categories.values(), dfs)]"
   ]
  },
  {
   "cell_type": "code",
   "execution_count": 57,
   "metadata": {},
   "outputs": [
    {
     "data": {
      "text/html": [
       "<div>\n",
       "<style scoped>\n",
       "    .dataframe tbody tr th:only-of-type {\n",
       "        vertical-align: middle;\n",
       "    }\n",
       "\n",
       "    .dataframe tbody tr th {\n",
       "        vertical-align: top;\n",
       "    }\n",
       "\n",
       "    .dataframe thead th {\n",
       "        text-align: right;\n",
       "    }\n",
       "</style>\n",
       "<table border=\"1\" class=\"dataframe\">\n",
       "  <thead>\n",
       "    <tr style=\"text-align: right;\">\n",
       "      <th></th>\n",
       "      <th>date</th>\n",
       "      <th>episode</th>\n",
       "      <th>title</th>\n",
       "    </tr>\n",
       "  </thead>\n",
       "  <tbody>\n",
       "    <tr>\n",
       "      <th>598</th>\n",
       "      <td>2004-01-17(토)</td>\n",
       "      <td>11회</td>\n",
       "      <td>X맨 1</td>\n",
       "    </tr>\n",
       "    <tr>\n",
       "      <th>599</th>\n",
       "      <td>2020-01-08(수)</td>\n",
       "      <td>11회</td>\n",
       "      <td>팔로우 미 시즌12</td>\n",
       "    </tr>\n",
       "  </tbody>\n",
       "</table>\n",
       "</div>"
      ],
      "text/plain": [
       "               date episode       title\n",
       "598   2004-01-17(토)    11회         X맨 1\n",
       "599   2020-01-08(수)    11회   팔로우 미 시즌12"
      ]
     },
     "execution_count": 57,
     "metadata": {},
     "output_type": "execute_result"
    }
   ],
   "source": [
    "result_df = pd.concat(dfs, ignore_index=True)\n",
    "result_df.tail(2)"
   ]
  },
  {
   "cell_type": "code",
   "execution_count": 58,
   "metadata": {},
   "outputs": [],
   "source": [
    "import pymongo\n",
    "\n",
    "client = pymongo.MongoClient('mongodb://id:pw@ip')\n",
    "db = client.wavve_server\n",
    "collection = db.items"
   ]
  },
  {
   "cell_type": "code",
   "execution_count": 59,
   "metadata": {},
   "outputs": [],
   "source": [
    "datas = collection.find({}, {\"_id\": False})"
   ]
  },
  {
   "cell_type": "code",
   "execution_count": 60,
   "metadata": {
    "scrolled": true
   },
   "outputs": [
    {
     "data": {
      "text/html": [
       "<div>\n",
       "<style scoped>\n",
       "    .dataframe tbody tr th:only-of-type {\n",
       "        vertical-align: middle;\n",
       "    }\n",
       "\n",
       "    .dataframe tbody tr th {\n",
       "        vertical-align: top;\n",
       "    }\n",
       "\n",
       "    .dataframe thead th {\n",
       "        text-align: right;\n",
       "    }\n",
       "</style>\n",
       "<table border=\"1\" class=\"dataframe\">\n",
       "  <thead>\n",
       "    <tr style=\"text-align: right;\">\n",
       "      <th></th>\n",
       "      <th>count</th>\n",
       "      <th>date</th>\n",
       "      <th>title</th>\n",
       "    </tr>\n",
       "  </thead>\n",
       "  <tbody>\n",
       "    <tr>\n",
       "      <th>598</th>\n",
       "      <td>11회</td>\n",
       "      <td>2004-01-17(토)</td>\n",
       "      <td>X맨 1</td>\n",
       "    </tr>\n",
       "    <tr>\n",
       "      <th>599</th>\n",
       "      <td>11회</td>\n",
       "      <td>2020-01-08(수)</td>\n",
       "      <td>팔로우 미 시즌12</td>\n",
       "    </tr>\n",
       "  </tbody>\n",
       "</table>\n",
       "</div>"
      ],
      "text/plain": [
       "    count            date       title\n",
       "598  11회    2004-01-17(토)        X맨 1\n",
       "599  11회    2020-01-08(수)  팔로우 미 시즌12"
      ]
     },
     "execution_count": 60,
     "metadata": {},
     "output_type": "execute_result"
    }
   ],
   "source": [
    "pd.DataFrame(datas).tail(2)"
   ]
  }
 ],
 "metadata": {
  "kernelspec": {
   "display_name": "Python 3",
   "language": "python",
   "name": "python3"
  },
  "language_info": {
   "codemirror_mode": {
    "name": "ipython",
    "version": 3
   },
   "file_extension": ".py",
   "mimetype": "text/x-python",
   "name": "python",
   "nbconvert_exporter": "python",
   "pygments_lexer": "ipython3",
   "version": "3.7.3"
  }
 },
 "nbformat": 4,
 "nbformat_minor": 4
}
