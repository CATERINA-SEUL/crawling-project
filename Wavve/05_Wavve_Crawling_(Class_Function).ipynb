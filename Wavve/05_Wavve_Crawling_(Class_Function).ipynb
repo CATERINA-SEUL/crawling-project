{
 "cells": [
  {
   "cell_type": "code",
   "execution_count": 1,
   "metadata": {},
   "outputs": [],
   "source": [
    "import pandas as pd\n",
    "import numpy as np\n",
    "import requests\n",
    "import json\n",
    "from API_key import API_key"
   ]
  },
  {
   "cell_type": "markdown",
   "metadata": {},
   "source": [
    "### Class 로 정리"
   ]
  },
  {
   "cell_type": "code",
   "execution_count": 2,
   "metadata": {},
   "outputs": [],
   "source": [
    "class WavvePaser:\n",
    "    \n",
    "    def __init__(self, datetime, apikey):\n",
    "        contents_id = self.getPopularId()\n",
    "        self.contents_id_dfs = pd.concat(contents_id, ignore_index=True)\n",
    "        self.contents_info = self.getDetailInfo()\n",
    "        category_df, categories = self.ParseDetailInfo()\n",
    "        category_df['category'] = np.where(category_df['broadcast'].isin(\n",
    "            categories['지상파']), '지상파', np.where(category_df['broadcast'].isin(categories['종편']), '종편', '케이블'))\n",
    "        category_df['rank'] = category_df.reset_index()[\"index\"]+1\n",
    "        category_df['DateTime'] = datetime\n",
    "        self.category_df = category_df.reindex(columns = ['rank','title','broadcast','episode', 'date', 'genre', 'category','DateTime'])\n",
    "    \n",
    "    def getPopularId(self):\n",
    "\n",
    "        popular_urls = []\n",
    "        contents_id = []\n",
    "\n",
    "        genres = {\n",
    "\n",
    "            'all': '전체',\n",
    "            '01': \"드라마\",\n",
    "            '02': \"예능\",\n",
    "\n",
    "        }\n",
    "\n",
    "        for genre in genres:\n",
    "            for page in range(1, 6):\n",
    "                offset = (page-1) * 20\n",
    "                item_url = f'https://apis.pooq.co.kr/cf/vod/popularcontents?WeekDay=all&broadcastid=6339&came=broadcast&contenttype=vod&genre={genre}&limit=20&offset={offset}&orderby=viewtime&page={page}&uiparent=GN2-VN2&uirank=2&uitype=VN2&apikey={apikey}&credential=none&device=pc&drm=wm&partner=pooq&pooqzone=none&region=kor&targetage=auto'\n",
    "                popular_urls.append(item_url)\n",
    "\n",
    "        for popular_url in popular_urls:\n",
    "            req = requests.get(popular_url)\n",
    "            data = json.loads(req.text)\n",
    "            item_ids = [item['event_list'][0]['bodylist'][3].split(\n",
    "                ':')[1] for item in data['cell_toplist']['celllist']]\n",
    "            contents_id.append(pd.DataFrame({'id': item_ids}))\n",
    "\n",
    "        return contents_id\n",
    "    \n",
    "    def getDetailInfo(self):\n",
    "\n",
    "        detail_info = []\n",
    "\n",
    "        for content_id in self.contents_id_dfs['id']:\n",
    "            detail_url = f'https://apis.pooq.co.kr/vod/contents/{content_id}?device=pc&partner=pooq&pooqzone=none&region=kor&drm=wm&targetage=auto&apikey={apikey}&credential=gnay3eDqvjaYTaFwZFAJ57u0nvz33CA2FoHsr5NsY8OCv2wWeu3ZRgaY9Ci2CjRlAd03D4A%2BIdixX2iwjy6jRFjRGc9qw%2BSkVjGFCJxuSRe86SSYVVK953HfiFKuKb6A3nNVJoHyY6gvgpSgRpyNNeZOzMNkqmc2RcGu%2FWrnAXFDATjT2IpHfym9Ng6rPXCbvkd9q3Y%2FsfQrOSB%2BLRTp4IL6AnvszoJi8ccV9AJhR37vOmwOwiV76z7QJexM054Dhp04KJCHm8HmpZANhV1iOw%3D%3D'\n",
    "            req = requests.get(detail_url)\n",
    "            data = json.loads(req.text)\n",
    "            detail_info.append(data)\n",
    "\n",
    "        return detail_info\n",
    "    \n",
    "    def ParseDetailInfo(self):\n",
    "\n",
    "        wavve_list = []\n",
    "\n",
    "        categories = {\n",
    "\n",
    "            '지상파': ['MBC', 'SBS', 'KBS 2TV', 'KBS 1TV', 'KBS'],\n",
    "            '종편': ['MBN', '채널A', 'TV조선', 'TV CHOSUN'],\n",
    "            '케이블': ['MBC Every1', 'KBS JOY', 'OCN', 'YTN', '연합뉴스TV', 'KTH PLAYY', 'SBS Fil']\n",
    "        }\n",
    "\n",
    "        for content_info in self.contents_info:\n",
    "\n",
    "            wavve_list.append({\n",
    "                'title': content_info['programtitle'],\n",
    "                'broadcast': content_info['channelname'],\n",
    "                'episode': content_info['episodenumber'],\n",
    "                'date': content_info['releasedate']+\"(\"+content_info['releaseweekday']+\")\",\n",
    "                'genre': content_info['genretext'],\n",
    "\n",
    "            })\n",
    "\n",
    "        return pd.DataFrame(wavve_list), categories"
   ]
  },
  {
   "cell_type": "code",
   "execution_count": null,
   "metadata": {},
   "outputs": [],
   "source": [
    "df = WavveParser('2020-04-02 14:00', API_key()).category_df"
   ]
  },
  {
   "cell_type": "code",
   "execution_count": null,
   "metadata": {},
   "outputs": [],
   "source": [
    "df.to_csv('./wavve_dataset/0402_14.csv', index=False)"
   ]
  }
 ],
 "metadata": {
  "kernelspec": {
   "display_name": "Python 3",
   "language": "python",
   "name": "python3"
  },
  "language_info": {
   "codemirror_mode": {
    "name": "ipython",
    "version": 3
   },
   "file_extension": ".py",
   "mimetype": "text/x-python",
   "name": "python",
   "nbconvert_exporter": "python",
   "pygments_lexer": "ipython3",
   "version": "3.7.6"
  }
 },
 "nbformat": 4,
 "nbformat_minor": 4
}
