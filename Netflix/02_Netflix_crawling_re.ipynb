{
 "cells": [
  {
   "cell_type": "code",
   "execution_count": 1,
   "metadata": {},
   "outputs": [],
   "source": [
    "import requests\n",
    "import pandas as pd\n",
    "from bs4 import BeautifulSoup\n",
    "from selenium import webdriver\n",
    "from selenium.webdriver.remote.webelement import WebElement\n",
    "from NetflixLogin import login_id, login_pw"
   ]
  },
  {
   "cell_type": "code",
   "execution_count": 2,
   "metadata": {},
   "outputs": [],
   "source": [
    "def login():\n",
    "    driver = webdriver.Chrome()\n",
    "    driver.set_window_size(1080,800)\n",
    "    url = 'https://www.netflix.com/kr/login?nextpage=https%3A%2F%2Fwww.netflix.com%2Fbrowse%2Fgenre%2F83'\n",
    "    driver.get(url)\n",
    "    driver.implicitly_wait(1)\n",
    "    #로그인\n",
    "    driver.find_element_by_css_selector('#id_userLoginId').send_keys(login_id())\n",
    "    driver.find_element_by_css_selector('#id_password').send_keys(login_pw())\n",
    "    driver.find_element_by_css_selector('.btn').click()\n",
    "    driver.implicitly_wait(3)\n",
    "    # driver.find_element_by_css_selector('#appMountPoint > div > div > div:nth-child(1) > div.bd.dark-background > div.profiles-gate-container > div > div > ul > li:nth-child(1) > div > a > div > div').click()\n",
    "    driver.find_element_by_css_selector('#appMountPoint > div > div > div:nth-child(1) > div.bd.dark-background > div.profiles-gate-container > div > div > ul > li:nth-child(2) > div > a > div > div').click()\n",
    "    \n",
    "    return driver"
   ]
  },
  {
   "cell_type": "code",
   "execution_count": 3,
   "metadata": {},
   "outputs": [],
   "source": [
    "def scan(driver):\n",
    "    import time\n",
    "\n",
    "    items_list = []\n",
    "    items_get = driver.find_element_by_xpath('//div[@data-list-context=\"mostWatched\"]')\n",
    "\n",
    "    if items_get:\n",
    "        items = items_get.find_element_by_css_selector('.rowContent .slider .sliderContent')\n",
    "        items.text.strip()\n",
    "        items_get.find_element_by_css_selector('.handle').click()\n",
    "        time.sleep(2)\n",
    "        items_get.find_element_by_css_selector('.handle').click()\n",
    "        items_2 = items_get.find_elements_by_css_selector(\"div.ptrack-content a\")\n",
    "\n",
    "    for item in items_2:\n",
    "        title = item.get_attribute(\"aria-label\")\n",
    "        rank = item.find_elements_by_css_selector(\"div > svg > use\")[0].get_attribute(\"xlink:href\")\n",
    "        rank = int(rank.split('-')[1])\n",
    "        items_list.append({\"title\" : title, \"rank\" : rank})\n",
    "    \n",
    "    time.sleep(1)\n",
    "\n",
    "    driver.quit()\n",
    "    \n",
    "    return items_list"
   ]
  }
 ],
 "metadata": {
  "kernelspec": {
   "display_name": "Python 3",
   "language": "python",
   "name": "python3"
  },
  "language_info": {
   "codemirror_mode": {
    "name": "ipython",
    "version": 3
   },
   "file_extension": ".py",
   "mimetype": "text/x-python",
   "name": "python",
   "nbconvert_exporter": "python",
   "pygments_lexer": "ipython3",
   "version": "3.7.6"
  }
 },
 "nbformat": 4,
 "nbformat_minor": 4
}
