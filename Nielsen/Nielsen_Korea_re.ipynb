{
 "cells": [
  {
   "cell_type": "code",
   "execution_count": 8,
   "metadata": {},
   "outputs": [],
   "source": [
    "tvch = 1\n",
    "days_ = 20200318\n",
    "\n",
    "url = f'http://nielsenkorea.co.kr/tv_terrestrial_day.asp?menu=Tit_1&sub_menu={tvch}_1&area=01&begin_date={days_}'\n",
    "\n",
    "params = {\n",
    "    'sYear': '2020',\"\"\n",
    "    'sMonth': '03',\n",
    "    'sDay': '08',\n",
    "}"
   ]
  },
  {
   "cell_type": "code",
   "execution_count": 9,
   "metadata": {},
   "outputs": [
    {
     "data": {
      "text/plain": [
       "28"
      ]
     },
     "execution_count": 9,
     "metadata": {},
     "output_type": "execute_result"
    }
   ],
   "source": [
    "resp = requests.post(url, headers=params)\n",
    "soup = BeautifulSoup(resp.content, 'html.parser')\n",
    "len(soup)"
   ]
  },
  {
   "cell_type": "code",
   "execution_count": 10,
   "metadata": {},
   "outputs": [],
   "source": [
    "tv_ch = {\n",
    "\n",
    "    1: '지상파',\n",
    "    2: '종편',\n",
    "    3: '케이블',\n",
    "}"
   ]
  },
  {
   "cell_type": "code",
   "execution_count": 11,
   "metadata": {},
   "outputs": [],
   "source": [
    "elements = soup.select('.ranking_tb')"
   ]
  },
  {
   "cell_type": "code",
   "execution_count": 101,
   "metadata": {},
   "outputs": [],
   "source": [
    "from datetime import datetime, timedelta\n",
    "\n",
    "days_range = []\n",
    "\n",
    "end = datetime.now()\n",
    "start = (end+timedelta(days = -14))\n",
    "# end = datetime.now()\n",
    "date_generated = [start + timedelta(days=x) for x in range(0, (end-start).days)]\n",
    "days_range = [date_.strftime(\"%Y%m%d\") for date_ in date_generated] "
   ]
  },
  {
   "cell_type": "code",
   "execution_count": 103,
   "metadata": {},
   "outputs": [
    {
     "data": {
      "text/plain": [
       "'2020.03.16'"
      ]
     },
     "execution_count": 103,
     "metadata": {},
     "output_type": "execute_result"
    }
   ],
   "source": [
    "dates = soup.select_one('.ranking_date').text.strip()\n",
    "dates"
   ]
  },
  {
   "cell_type": "code",
   "execution_count": 930,
   "metadata": {},
   "outputs": [
    {
     "data": {
      "text/plain": [
       "'2020년'"
      ]
     },
     "execution_count": 930,
     "metadata": {},
     "output_type": "execute_result"
    }
   ],
   "source": [
    "year = datas[0].text.split('\\n')[-2]\n",
    "year"
   ]
  },
  {
   "cell_type": "code",
   "execution_count": 28,
   "metadata": {},
   "outputs": [
    {
     "data": {
      "text/plain": [
       "'1'"
      ]
     },
     "execution_count": 28,
     "metadata": {},
     "output_type": "execute_result"
    }
   ],
   "source": [
    "ranks = soup.select('.tb_txt_center')[0].text.split('\\t')[0]\n",
    "ranks"
   ]
  },
  {
   "cell_type": "code",
   "execution_count": 29,
   "metadata": {},
   "outputs": [
    {
     "data": {
      "text/plain": [
       "'KBS1'"
      ]
     },
     "execution_count": 29,
     "metadata": {},
     "output_type": "execute_result"
    }
   ],
   "source": [
    "broadcasts = soup.select('.tb_txt_center')[1].text.split('\\t')[0]\n",
    "broadcasts"
   ]
  },
  {
   "cell_type": "code",
   "execution_count": 31,
   "metadata": {},
   "outputs": [
    {
     "data": {
      "text/plain": [
       "'일일연속극(꽃길만걸어요)'"
      ]
     },
     "execution_count": 31,
     "metadata": {},
     "output_type": "execute_result"
    }
   ],
   "source": [
    "program = soup.select('table.ranking_tb .tb_txt')[0].text.split('\\t')[0]\n",
    "program"
   ]
  },
  {
   "cell_type": "code",
   "execution_count": 33,
   "metadata": {},
   "outputs": [
    {
     "data": {
      "text/plain": [
       "'20.3'"
      ]
     },
     "execution_count": 33,
     "metadata": {},
     "output_type": "execute_result"
    }
   ],
   "source": [
    "rate = soup.select('table.ranking_tb .percent')[0].text.strip()\n",
    "rate"
   ]
  },
  {
   "cell_type": "code",
   "execution_count": 617,
   "metadata": {},
   "outputs": [],
   "source": [
    "elements = soup.select('table.ranking_tb')\n",
    "top20 = elements[0].get_text().strip().replace('\\n', ' ').replace(\n",
    "    '\\r', ' ').replace('\\t', ' ').replace('  ', ' ').split(' ')"
   ]
  },
  {
   "cell_type": "markdown",
   "metadata": {},
   "source": [
    "----\n",
    "### restart"
   ]
  },
  {
   "cell_type": "code",
   "execution_count": 68,
   "metadata": {},
   "outputs": [],
   "source": [
    "tv_channels = {\n",
    "    \n",
    "    '1':'지상파',\n",
    "    '2':'종편',\n",
    "    '3':'케이블',\n",
    "}"
   ]
  },
  {
   "cell_type": "code",
   "execution_count": 82,
   "metadata": {},
   "outputs": [],
   "source": [
    "from datetime import datetime, timedelta\n",
    "\n",
    "def program_percentage(tv_channel,date_):\n",
    "\n",
    "    url = f'http://nielsenkorea.co.kr/tv_terrestrial_day.asp?menu=Tit_1&sub_menu={tv_channel}_1&area=01&begin_date={date_}'\n",
    "\n",
    "    params = {\n",
    "        'sYear': '2020',\n",
    "        'sMonth': '03',\n",
    "        'sDay': '08',\n",
    "    }\n",
    "    resp = requests.post(url, headers=params)\n",
    "    soup = BeautifulSoup(resp.content, 'html.parser')\n",
    "\n",
    "    days_range = []\n",
    "    rank_list = []\n",
    "    pg_list = []\n",
    "    bs_list = []\n",
    "    rate_list = []\n",
    "    ch_list = []\n",
    "    datas = []\n",
    "    \n",
    "    # 날짜\n",
    "    end = datetime.now()\n",
    "    start = (end+timedelta(days = -14))\n",
    "    date_generated = [start + timedelta(days=x) for x in range(0, (end-start).days)]\n",
    "    days_range = [date_.strftime(\"%Y%m%d\") for date_ in date_generated] \n",
    "    \n",
    "    # columns\n",
    "    ranks = soup.select('.tb_txt_center')\n",
    "    broadcasts = soup.select('.tb_txt_center')\n",
    "    programs = soup.select('table.ranking_tb .tb_txt')\n",
    "    rates_10 = soup.select('table.ranking_tb .percent')\n",
    "    rates_20 = soup.select('table.ranking_tb .percent_g')\n",
    "    rates_all = rates_10[:10]+rates_20[:10]\n",
    "\n",
    "    rank_list = [rank.text.split('\\t')[0] for rank in ranks[0:40:2]]\n",
    "    bs_list = [broadcast.text.split('\\t')[0]\n",
    "               for broadcast in broadcasts[1:40:2]]\n",
    "    pg_list = [program.text.split('\\t')[0] for program in programs[0:20]]\n",
    "    rate_list = [rate.text.strip() for rate in rates_all]\n",
    "        \n",
    "    datas = pd.DataFrame({'rank': rank_list,\n",
    "                       'program': pg_list,\n",
    "                       'broadcast': bs_list,\n",
    "                       'rate': rate_list,})\n",
    "\n",
    "    return datas"
   ]
  },
  {
   "cell_type": "code",
   "execution_count": 83,
   "metadata": {},
   "outputs": [],
   "source": [
    "from datetime import datetime, timedelta\n",
    "\n",
    "def program_percentage_another(tv_channel,date_):\n",
    "\n",
    "    url = f'http://nielsenkorea.co.kr/tv_terrestrial_day.asp?menu=Tit_1&sub_menu={tv_channel}_1&area=01&begin_date={date_}'\n",
    "\n",
    "    params = {\n",
    "        'sYear': '2020',\n",
    "        'sMonth': '03',\n",
    "        'sDay': '08',\n",
    "    }\n",
    "    resp = requests.post(url, headers=params)\n",
    "    soup = BeautifulSoup(resp.content, 'html.parser')\n",
    "    \n",
    "    days_range = []\n",
    "    rank_list = []\n",
    "    pg_list = []\n",
    "    bs_list = []\n",
    "    rate_list = []\n",
    "    ch_list = []\n",
    "    datas_02 = []\n",
    "    \n",
    "     # 날짜\n",
    "    end = datetime.now()\n",
    "    start = (end+timedelta(days = -14))\n",
    "    date_generated = [start + timedelta(days=x) for x in range(0, (end-start).days)]\n",
    "    days_range = [date_.strftime(\"%Y%m%d\") for date_ in date_generated] \n",
    "    \n",
    "\n",
    "    ranks = soup.select('.tb_txt_center')\n",
    "    broadcasts = soup.select('.tb_txt_center')\n",
    "    programs = soup.select('table.ranking_tb .tb_txt')\n",
    "    rates_10 = soup.select('table.ranking_tb .percent')\n",
    "    rates_20 = soup.select('table.ranking_tb .percent_g')\n",
    "    rates_all = rates_10[:10]+rates_20[:10]\n",
    "\n",
    "\n",
    "    rank_list = [rank.text.split('\\t')[0] for rank in ranks[0:20:2]]\n",
    "    bs_list = [broadcast.text.split('\\t')[0]\n",
    "               for broadcast in broadcasts[1:20:2]]\n",
    "    pg_list = [program.text.split('\\t')[0] for program in programs[0:10]]\n",
    "    rate_list = [rate.text.strip() for rate in rates_all]\n",
    "\n",
    "    \n",
    "    datas_02 = pd.DataFrame({'rank': rank_list,\n",
    "                          'program': pg_list,\n",
    "                          'broadcast': bs_list,\n",
    "                          'rate': rate_list,})\n",
    "\n",
    "    return datas_02"
   ]
  },
  {
   "cell_type": "code",
   "execution_count": null,
   "metadata": {},
   "outputs": [],
   "source": [
    "dfs_01 = []\n",
    "\n",
    "for tv_channel in range(5):\n",
    "    for days_ in days_range:\n",
    "        if tv_channel == 1:\n",
    "            df_01 = program_percentage(tv_channel,days_)\n",
    "            dfs_01.append(df_01)\n",
    "            df_01['category'] = tv_channels['1']\n",
    "            df_01['date'] = days_\n",
    "print(dfs_01)"
   ]
  },
  {
   "cell_type": "code",
   "execution_count": null,
   "metadata": {},
   "outputs": [],
   "source": [
    "dfs_02 = []\n",
    "for tv_channel in range(2,4):\n",
    "    for days_ in days_range:\n",
    "        if tv_channel == 2:\n",
    "            df = program_percentage_another(tv_channel,days_)\n",
    "            dfs_02.append(df)\n",
    "            df['category'] = tv_channels['2']\n",
    "            df['date'] = days_\n",
    "        else:\n",
    "            df_ = program_percentage_another(tv_channel,days_)\n",
    "            dfs_02.append(df_)\n",
    "            df_['category'] = tv_channels['3']\n",
    "            df_['date'] = days_\n",
    "print(dfs_02)"
   ]
  },
  {
   "cell_type": "code",
   "execution_count": 86,
   "metadata": {},
   "outputs": [
    {
     "data": {
      "text/html": [
       "<div>\n",
       "<style scoped>\n",
       "    .dataframe tbody tr th:only-of-type {\n",
       "        vertical-align: middle;\n",
       "    }\n",
       "\n",
       "    .dataframe tbody tr th {\n",
       "        vertical-align: top;\n",
       "    }\n",
       "\n",
       "    .dataframe thead th {\n",
       "        text-align: right;\n",
       "    }\n",
       "</style>\n",
       "<table border=\"1\" class=\"dataframe\">\n",
       "  <thead>\n",
       "    <tr style=\"text-align: right;\">\n",
       "      <th></th>\n",
       "      <th>rank</th>\n",
       "      <th>program</th>\n",
       "      <th>broadcast</th>\n",
       "      <th>rate</th>\n",
       "      <th>category</th>\n",
       "      <th>date</th>\n",
       "    </tr>\n",
       "  </thead>\n",
       "  <tbody>\n",
       "    <tr>\n",
       "      <th>18</th>\n",
       "      <td>19</td>\n",
       "      <td>동상이몽2너는내운명</td>\n",
       "      <td>SBS</td>\n",
       "      <td>6.5</td>\n",
       "      <td>지상파</td>\n",
       "      <td>20200316</td>\n",
       "    </tr>\n",
       "    <tr>\n",
       "      <th>19</th>\n",
       "      <td>20</td>\n",
       "      <td>생활의달인</td>\n",
       "      <td>SBS</td>\n",
       "      <td>6.3</td>\n",
       "      <td>지상파</td>\n",
       "      <td>20200316</td>\n",
       "    </tr>\n",
       "  </tbody>\n",
       "</table>\n",
       "</div>"
      ],
      "text/plain": [
       "   rank     program broadcast rate category      date\n",
       "18   19  동상이몽2너는내운명       SBS  6.5      지상파  20200316\n",
       "19   20       생활의달인       SBS  6.3      지상파  20200316"
      ]
     },
     "execution_count": 86,
     "metadata": {},
     "output_type": "execute_result"
    }
   ],
   "source": [
    "nielsen_df_01 = pd.concat(dfs_01)\n",
    "nielsen_df_01.tail(2)"
   ]
  },
  {
   "cell_type": "code",
   "execution_count": 87,
   "metadata": {
    "scrolled": true
   },
   "outputs": [
    {
     "data": {
      "text/html": [
       "<div>\n",
       "<style scoped>\n",
       "    .dataframe tbody tr th:only-of-type {\n",
       "        vertical-align: middle;\n",
       "    }\n",
       "\n",
       "    .dataframe tbody tr th {\n",
       "        vertical-align: top;\n",
       "    }\n",
       "\n",
       "    .dataframe thead th {\n",
       "        text-align: right;\n",
       "    }\n",
       "</style>\n",
       "<table border=\"1\" class=\"dataframe\">\n",
       "  <thead>\n",
       "    <tr style=\"text-align: right;\">\n",
       "      <th></th>\n",
       "      <th>rank</th>\n",
       "      <th>program</th>\n",
       "      <th>broadcast</th>\n",
       "      <th>rate</th>\n",
       "      <th>category</th>\n",
       "      <th>date</th>\n",
       "    </tr>\n",
       "  </thead>\n",
       "  <tbody>\n",
       "    <tr>\n",
       "      <th>5</th>\n",
       "      <td>6</td>\n",
       "      <td>YTN뉴스특보</td>\n",
       "      <td>YTN</td>\n",
       "      <td>2.077</td>\n",
       "      <td>케이블</td>\n",
       "      <td>20200316</td>\n",
       "    </tr>\n",
       "    <tr>\n",
       "      <th>6</th>\n",
       "      <td>7</td>\n",
       "      <td>YTN뉴스특보</td>\n",
       "      <td>YTN</td>\n",
       "      <td>2.049</td>\n",
       "      <td>케이블</td>\n",
       "      <td>20200316</td>\n",
       "    </tr>\n",
       "    <tr>\n",
       "      <th>7</th>\n",
       "      <td>8</td>\n",
       "      <td>뉴스특보코로나19COVID19</td>\n",
       "      <td>연합뉴스TV</td>\n",
       "      <td>2.021</td>\n",
       "      <td>케이블</td>\n",
       "      <td>20200316</td>\n",
       "    </tr>\n",
       "    <tr>\n",
       "      <th>8</th>\n",
       "      <td>9</td>\n",
       "      <td>뉴스특보코로나19COVID19</td>\n",
       "      <td>연합뉴스TV</td>\n",
       "      <td>1.974</td>\n",
       "      <td>케이블</td>\n",
       "      <td>20200316</td>\n",
       "    </tr>\n",
       "    <tr>\n",
       "      <th>9</th>\n",
       "      <td>10</td>\n",
       "      <td>YTN뉴스특보</td>\n",
       "      <td>YTN</td>\n",
       "      <td>1.944</td>\n",
       "      <td>케이블</td>\n",
       "      <td>20200316</td>\n",
       "    </tr>\n",
       "  </tbody>\n",
       "</table>\n",
       "</div>"
      ],
      "text/plain": [
       "  rank           program broadcast   rate category      date\n",
       "5    6           YTN뉴스특보       YTN  2.077      케이블  20200316\n",
       "6    7           YTN뉴스특보       YTN  2.049      케이블  20200316\n",
       "7    8  뉴스특보코로나19COVID19    연합뉴스TV  2.021      케이블  20200316\n",
       "8    9  뉴스특보코로나19COVID19    연합뉴스TV  1.974      케이블  20200316\n",
       "9   10           YTN뉴스특보       YTN  1.944      케이블  20200316"
      ]
     },
     "execution_count": 87,
     "metadata": {},
     "output_type": "execute_result"
    }
   ],
   "source": [
    "nielsen_df_02 = pd.concat(dfs_02)\n",
    "nielsen_df_02.tail()"
   ]
  },
  {
   "cell_type": "code",
   "execution_count": 75,
   "metadata": {},
   "outputs": [],
   "source": [
    "nielsen_df_02.to_csv('./0317_종편_케이블_시청률.csv', index=False, encoding='utf-8-sig')"
   ]
  },
  {
   "cell_type": "code",
   "execution_count": 76,
   "metadata": {},
   "outputs": [],
   "source": [
    "nielsen_df_01.to_csv('./0317_지상파_시청률.csv', index=False, encoding='utf-8-sig')"
   ]
  }
 ],
 "metadata": {
  "kernelspec": {
   "display_name": "Python 3",
   "language": "python",
   "name": "python3"
  },
  "language_info": {
   "codemirror_mode": {
    "name": "ipython",
    "version": 3
   },
   "file_extension": ".py",
   "mimetype": "text/x-python",
   "name": "python",
   "nbconvert_exporter": "python",
   "pygments_lexer": "ipython3",
   "version": "3.7.3"
  }
 },
 "nbformat": 4,
 "nbformat_minor": 4
}
