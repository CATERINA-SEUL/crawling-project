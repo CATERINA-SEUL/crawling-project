{
 "cells": [
  {
   "cell_type": "markdown",
   "metadata": {},
   "source": [
    "#### Nielsen\n",
    "----"
   ]
  },
  {
   "cell_type": "code",
   "execution_count": 1,
   "metadata": {},
   "outputs": [],
   "source": [
    "import requests\n",
    "import pandas as pd\n",
    "import json\n",
    "from bs4 import BeautifulSoup"
   ]
  },
  {
   "cell_type": "markdown",
   "metadata": {},
   "source": [
    "#### 1. 프로젝트 생성"
   ]
  },
  {
   "cell_type": "code",
   "execution_count": 2,
   "metadata": {
    "scrolled": true
   },
   "outputs": [
    {
     "name": "stdout",
     "output_type": "stream",
     "text": [
      "New Scrapy project 'nielsen', using template directory '/home/ubuntu/.pyenv/versions/3.6.9/envs/python3/lib/python3.6/site-packages/scrapy/templates/project', created in:\r\n",
      "    /home/ubuntu/python3/notebook/crawling/nielsen\r\n",
      "\r\n",
      "You can start your first spider with:\r\n",
      "    cd nielsen\r\n",
      "    scrapy genspider example example.com\r\n"
     ]
    }
   ],
   "source": [
    "!scrapy startproject nielsen"
   ]
  },
  {
   "cell_type": "markdown",
   "metadata": {},
   "source": [
    "#### 2. items.py 수정"
   ]
  },
  {
   "cell_type": "code",
   "execution_count": 12,
   "metadata": {},
   "outputs": [
    {
     "name": "stdout",
     "output_type": "stream",
     "text": [
      "Overwriting ./nielsen/nielsen/items.py\n"
     ]
    }
   ],
   "source": [
    "%%writefile ./nielsen/nielsen/items.py\n",
    "\n",
    "import scrapy\n",
    "class NielsenItem(scrapy.Item):\n",
    "\n",
    "    rank = scrapy.Field()\n",
    "    broadcast = scrapy.Field()\n",
    "    program = scrapy.Field()\n",
    "    rate = scrapy.Field()"
   ]
  },
  {
   "cell_type": "markdown",
   "metadata": {},
   "source": [
    "#### 3. spider.py 생성"
   ]
  },
  {
   "cell_type": "code",
   "execution_count": 71,
   "metadata": {},
   "outputs": [
    {
     "name": "stdout",
     "output_type": "stream",
     "text": [
      "Overwriting ./nielsen/nielsen/spiders/spider.py\n"
     ]
    }
   ],
   "source": [
    "%%writefile ./nielsen/nielsen/spiders/spider.py\n",
    "\n",
    "import scrapy\n",
    "from bs4 import BeautifulSoup\n",
    "from datetime import datetime, timedelta\n",
    "\n",
    "from nielsen.items import NielsenItem\n",
    "from scrapy.http import HtmlResponse\n",
    "from scrapy.selector import Selector\n",
    "\n",
    "\n",
    "class Spider(scrapy.Spider):\n",
    "    \n",
    "    name = 'Nielsen'\n",
    "    \n",
    "    def __init__(self, **kwargs):\n",
    "        self.start_urls = 'http://nielsenkorea.co.kr/tv_terrestrial_day.asp?menu=Tit_1&sub_menu={}_1'.format(kwargs['category'])\n",
    "    \n",
    "        super().__init__(**kwargs)\n",
    "        \n",
    "    def start_requests(self):\n",
    "        if self.start_urls == 'http://nielsenkorea.co.kr/tv_terrestrial_day.asp?menu=Tit_1&sub_menu=1_1':\n",
    "            yield scrapy.Request(url = self.start_urls, callback=self.get_content1)\n",
    "        else:\n",
    "            yield scrapy.Request(url = self.start_urls, callback=self.get_content2)\n",
    "            \n",
    "    def get_content1(self, response):\n",
    "        dom = BeautifulSoup(response.body ,'html.parser')\n",
    "        ranks = dom.select('.tb_txt_center')[0:40:2]\n",
    "        broadcasts = dom.select('.tb_txt_center')[1:40:2]\n",
    "        programs = dom.select('table.ranking_tb .tb_txt')[0:20]\n",
    "        rates_10 = dom.select('table.ranking_tb .percent')\n",
    "        rates_20 = dom.select('table.ranking_tb .percent_g')\n",
    "        rates_all = rates_10[:10]+rates_20[:10]\n",
    "        \n",
    "        item = NielsenItem()\n",
    "        \n",
    "        for rank, broadcast, program, rate in zip(ranks, broadcasts, programs, rates_all):\n",
    "            \n",
    "            item['rank'] = rank.text.split('\\t')[0]\n",
    "            item['broadcast'] = broadcast.text.split('\\t')[0]\n",
    "            item['program'] = program.text.split('\\t')[0]\n",
    "            item['rate'] = rate.text.strip()\n",
    "        \n",
    "            yield item\n",
    "        \n",
    "    def get_content2(self, response):\n",
    "        dom = BeautifulSoup(response.body ,'html.parser')\n",
    "        ranks = dom.select('.tb_txt_center')[0:20:2]\n",
    "        broadcasts = dom.select('.tb_txt_center')[1:20:2]\n",
    "        programs = dom.select('table.ranking_tb .tb_txt')[0:10]\n",
    "        rates_10 = dom.select('table.ranking_tb .percent')\n",
    "        rates_20 = dom.select('table.ranking_tb .percent_g')\n",
    "        rates_all = rates_10[:10]+rates_20[:10]\n",
    "        \n",
    "        item = NielsenItem()\n",
    "        \n",
    "        for rank, broadcast, program, rate in zip(ranks, broadcasts, programs, rates_all):\n",
    "            \n",
    "            item['rank'] = rank.text.split('\\t')[0]\n",
    "            item['broadcast'] = broadcast.text.split('\\t')[0]\n",
    "            item['program'] = program.text.split('\\t')[0]\n",
    "            item['rate'] = rate.text.strip()\n",
    "        \n",
    "            yield item"
   ]
  },
  {
   "cell_type": "code",
   "execution_count": 77,
   "metadata": {},
   "outputs": [
    {
     "name": "stdout",
     "output_type": "stream",
     "text": [
      "Overwriting nielsen/run.sh\n"
     ]
    }
   ],
   "source": [
    "%%writefile nielsen/run.sh\n",
    "cd nielsen\n",
    "scrapy crawl Nielsen -o nielsen_ground.csv -a category=1\n",
    "scrapy crawl Nielsen -o nielsen_general.csv -a category=2\n",
    "scrapy crawl Nielsen -o nielsen_cabletv.csv -a category=3"
   ]
  },
  {
   "cell_type": "code",
   "execution_count": 7,
   "metadata": {},
   "outputs": [],
   "source": [
    "!chmod 764 ./nielsen/run.sh"
   ]
  },
  {
   "cell_type": "code",
   "execution_count": 62,
   "metadata": {},
   "outputs": [
    {
     "name": "stdout",
     "output_type": "stream",
     "text": [
      "-rwxrw-r-- 1 ubuntu ubuntu 184 Mar 18 14:31 ./nielsen/run.sh\r\n"
     ]
    }
   ],
   "source": [
    "!ls -al ./nielsen/run.sh"
   ]
  },
  {
   "cell_type": "code",
   "execution_count": 78,
   "metadata": {},
   "outputs": [
    {
     "name": "stdout",
     "output_type": "stream",
     "text": [
      "Overwriting ./nielsen/nielsen/mongodb.py\n"
     ]
    }
   ],
   "source": [
    "%%writefile ./nielsen/nielsen/mongodb.py\n",
    "import pymongo\n",
    "\n",
    "client = pymongo.MongoClient('mongodb://id:pw@ip')\n",
    "db = client.nielsen_server\n",
    "collection = db.items"
   ]
  },
  {
   "cell_type": "code",
   "execution_count": 79,
   "metadata": {},
   "outputs": [
    {
     "name": "stdout",
     "output_type": "stream",
     "text": [
      "Overwriting ./nielsen/nielsen/pipelines.py\n"
     ]
    }
   ],
   "source": [
    "%%writefile ./nielsen/nielsen/pipelines.py\n",
    "from .mongodb import collection\n",
    "\n",
    "class NielsenPipeline(object):\n",
    "    def process_item(self, item, spider):\n",
    "        columns = [\"rank\", \"program\", \"broadcast\",\"rate\"]\n",
    "        data = {column: item[column] for column in columns}\n",
    "        collection.insert(data)\n",
    "        \n",
    "        return item"
   ]
  },
  {
   "cell_type": "code",
   "execution_count": 65,
   "metadata": {},
   "outputs": [],
   "source": [
    "!echo \"ITEM_PIPELINES = {\" >> nielsen/nielsen/settings.py '\\n nielsen.pipelines.NielsenPipeline' : 300, \"\\n}\" >> nielsen/nielsen/settings.py"
   ]
  },
  {
   "cell_type": "code",
   "execution_count": 67,
   "metadata": {},
   "outputs": [
    {
     "name": "stdout",
     "output_type": "stream",
     "text": [
      "ITEM_PIPELINES = { \r\n",
      " 'nielsen.pipelines.NielsenPipeline' : 300, \r\n",
      "}\r\n"
     ]
    }
   ],
   "source": [
    "!tail -n 3 nielsen/nielsen/settings.py"
   ]
  },
  {
   "cell_type": "code",
   "execution_count": null,
   "metadata": {},
   "outputs": [],
   "source": [
    "!./nielsen/run.sh"
   ]
  },
  {
   "cell_type": "code",
   "execution_count": 81,
   "metadata": {},
   "outputs": [
    {
     "data": {
      "text/plain": [
       "{1: 'ground', 2: 'general', 3: 'cabletv'}"
      ]
     },
     "execution_count": 81,
     "metadata": {},
     "output_type": "execute_result"
    }
   ],
   "source": [
    "categories = {1 : 'ground' , 2 : 'general' , 3 : 'cabletv'}\n",
    "categories"
   ]
  },
  {
   "cell_type": "code",
   "execution_count": 82,
   "metadata": {},
   "outputs": [],
   "source": [
    "dfs = [pd.read_csv(\"nielsen/nielsen_{}.csv\".format(category)) for category in categories.values()]"
   ]
  },
  {
   "cell_type": "code",
   "execution_count": 83,
   "metadata": {
    "scrolled": true
   },
   "outputs": [
    {
     "data": {
      "text/plain": [
       "[('ground', 20), ('general', 10), ('cabletv', 10)]"
      ]
     },
     "execution_count": 83,
     "metadata": {},
     "output_type": "execute_result"
    }
   ],
   "source": [
    "[(category, len(df)) for category, df in zip(categories.values(), dfs)]"
   ]
  },
  {
   "cell_type": "code",
   "execution_count": 76,
   "metadata": {},
   "outputs": [],
   "source": [
    "!rm -rf nielsen/nielsen_cabletv.csv\n",
    "!rm -rf nielsen/nielsen_general.csv\n",
    "!rm -rf nielsen/nielsen_ground.csv"
   ]
  },
  {
   "cell_type": "code",
   "execution_count": 86,
   "metadata": {},
   "outputs": [
    {
     "data": {
      "text/html": [
       "<div>\n",
       "<style scoped>\n",
       "    .dataframe tbody tr th:only-of-type {\n",
       "        vertical-align: middle;\n",
       "    }\n",
       "\n",
       "    .dataframe tbody tr th {\n",
       "        vertical-align: top;\n",
       "    }\n",
       "\n",
       "    .dataframe thead th {\n",
       "        text-align: right;\n",
       "    }\n",
       "</style>\n",
       "<table border=\"1\" class=\"dataframe\">\n",
       "  <thead>\n",
       "    <tr style=\"text-align: right;\">\n",
       "      <th></th>\n",
       "      <th>broadcast</th>\n",
       "      <th>program</th>\n",
       "      <th>rank</th>\n",
       "      <th>rate</th>\n",
       "    </tr>\n",
       "  </thead>\n",
       "  <tbody>\n",
       "    <tr>\n",
       "      <th>18</th>\n",
       "      <td>SBS</td>\n",
       "      <td>생활의달인</td>\n",
       "      <td>18</td>\n",
       "      <td>5.900</td>\n",
       "    </tr>\n",
       "    <tr>\n",
       "      <th>19</th>\n",
       "      <td>SBS</td>\n",
       "      <td>불타는청춘</td>\n",
       "      <td>20</td>\n",
       "      <td>5.800</td>\n",
       "    </tr>\n",
       "    <tr>\n",
       "      <th>20</th>\n",
       "      <td>TV CHOSUN</td>\n",
       "      <td>세상어디에도없는아내의맛2부</td>\n",
       "      <td>1</td>\n",
       "      <td>10.566</td>\n",
       "    </tr>\n",
       "    <tr>\n",
       "      <th>21</th>\n",
       "      <td>TV CHOSUN</td>\n",
       "      <td>세상어디에도없는아내의맛1부</td>\n",
       "      <td>2</td>\n",
       "      <td>6.019</td>\n",
       "    </tr>\n",
       "  </tbody>\n",
       "</table>\n",
       "</div>"
      ],
      "text/plain": [
       "    broadcast         program  rank    rate\n",
       "18        SBS           생활의달인    18   5.900\n",
       "19        SBS           불타는청춘    20   5.800\n",
       "20  TV CHOSUN  세상어디에도없는아내의맛2부     1  10.566\n",
       "21  TV CHOSUN  세상어디에도없는아내의맛1부     2   6.019"
      ]
     },
     "execution_count": 86,
     "metadata": {},
     "output_type": "execute_result"
    }
   ],
   "source": [
    "result_df = pd.concat(dfs, ignore_index=True)\n",
    "result_df[18:22]"
   ]
  },
  {
   "cell_type": "code",
   "execution_count": 87,
   "metadata": {},
   "outputs": [],
   "source": [
    "import pymongo\n",
    "\n",
    "client = pymongo.MongoClient('mongodb://id:pw@ip')\n",
    "db = client.wavve_server\n",
    "collection = db.items"
   ]
  },
  {
   "cell_type": "code",
   "execution_count": 91,
   "metadata": {},
   "outputs": [],
   "source": [
    "datas = collection.find({}, {\"_id\": False})"
   ]
  },
  {
   "cell_type": "code",
   "execution_count": 92,
   "metadata": {},
   "outputs": [
    {
     "data": {
      "text/html": [
       "<div>\n",
       "<style scoped>\n",
       "    .dataframe tbody tr th:only-of-type {\n",
       "        vertical-align: middle;\n",
       "    }\n",
       "\n",
       "    .dataframe tbody tr th {\n",
       "        vertical-align: top;\n",
       "    }\n",
       "\n",
       "    .dataframe thead th {\n",
       "        text-align: right;\n",
       "    }\n",
       "</style>\n",
       "<table border=\"1\" class=\"dataframe\">\n",
       "  <thead>\n",
       "    <tr style=\"text-align: right;\">\n",
       "      <th></th>\n",
       "      <th>count</th>\n",
       "      <th>date</th>\n",
       "      <th>title</th>\n",
       "    </tr>\n",
       "  </thead>\n",
       "  <tbody>\n",
       "    <tr>\n",
       "      <th>598</th>\n",
       "      <td>11회</td>\n",
       "      <td>2004-01-17(토)</td>\n",
       "      <td>X맨 1</td>\n",
       "    </tr>\n",
       "    <tr>\n",
       "      <th>599</th>\n",
       "      <td>11회</td>\n",
       "      <td>2020-01-08(수)</td>\n",
       "      <td>팔로우 미 시즌12</td>\n",
       "    </tr>\n",
       "  </tbody>\n",
       "</table>\n",
       "</div>"
      ],
      "text/plain": [
       "    count            date       title\n",
       "598  11회    2004-01-17(토)        X맨 1\n",
       "599  11회    2020-01-08(수)  팔로우 미 시즌12"
      ]
     },
     "execution_count": 92,
     "metadata": {},
     "output_type": "execute_result"
    }
   ],
   "source": [
    "pd.DataFrame(datas).tail(2)"
   ]
  }
 ],
 "metadata": {
  "kernelspec": {
   "display_name": "Python 3",
   "language": "python",
   "name": "python3"
  },
  "language_info": {
   "codemirror_mode": {
    "name": "ipython",
    "version": 3
   },
   "file_extension": ".py",
   "mimetype": "text/x-python",
   "name": "python",
   "nbconvert_exporter": "python",
   "pygments_lexer": "ipython3",
   "version": "3.7.3"
  }
 },
 "nbformat": 4,
 "nbformat_minor": 4
}
