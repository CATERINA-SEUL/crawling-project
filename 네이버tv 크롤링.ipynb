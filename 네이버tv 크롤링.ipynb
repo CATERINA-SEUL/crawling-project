{
 "cells": [
  {
   "cell_type": "code",
   "execution_count": 1,
   "metadata": {},
   "outputs": [],
   "source": [
    "import requests\n",
    "from bs4 import BeautifulSoup"
   ]
  },
  {
   "cell_type": "code",
   "execution_count": 2,
   "metadata": {},
   "outputs": [
    {
     "data": {
      "text/plain": [
       "<Response [200]>"
      ]
     },
     "execution_count": 2,
     "metadata": {},
     "output_type": "execute_result"
    }
   ],
   "source": [
    "response = requests.get('https://tv.naver.com/r/')\n",
    "response"
   ]
  },
  {
   "cell_type": "code",
   "execution_count": 10,
   "metadata": {},
   "outputs": [
    {
     "data": {
      "text/plain": [
       "(3, 97)"
      ]
     },
     "execution_count": 10,
     "metadata": {},
     "output_type": "execute_result"
    }
   ],
   "source": [
    "dom = BeautifulSoup(response.content, 'html.parser')\n",
    "top3 = dom.select('#container > div > div.top_main > div > div > div > ul > li')\n",
    "top100 = dom.select('#content > div > div > div > div')\n",
    "len(top3), len(top100)"
   ]
  },
  {
   "cell_type": "markdown",
   "metadata": {},
   "source": [
    "### top3 데이터 가져오기"
   ]
  },
  {
   "cell_type": "code",
   "execution_count": 37,
   "metadata": {},
   "outputs": [
    {
     "data": {
      "text/plain": [
       "'임영웅 vs 김수찬 ‘울면서 후회하네’♪ ✰환상의 하모니✰'"
      ]
     },
     "execution_count": 37,
     "metadata": {},
     "output_type": "execute_result"
    }
   ],
   "source": [
    "# clip title\n",
    "clip_1 = top3[0]\n",
    "clip_1_title = clip_1.select_one('[class=\"title\"]').text.replace('\\n', '')\n",
    "clip_1_title"
   ]
  },
  {
   "cell_type": "code",
   "execution_count": 40,
   "metadata": {},
   "outputs": [
    {
     "data": {
      "text/plain": [
       "'미스터트롯'"
      ]
     },
     "execution_count": 40,
     "metadata": {},
     "output_type": "execute_result"
    }
   ],
   "source": [
    "# clip programe\n",
    "clip_1_program = clip_1.select_one('[class=\"ch\"]').text\n",
    "clip_1_program"
   ]
  },
  {
   "cell_type": "code",
   "execution_count": 46,
   "metadata": {},
   "outputs": [
    {
     "data": {
      "text/plain": [
       "'789,196'"
      ]
     },
     "execution_count": 46,
     "metadata": {},
     "output_type": "execute_result"
    }
   ],
   "source": [
    "# clip 재생횟수\n",
    "clip_1_counts = clip_1.select_one('[class=\"hit\"]').text.replace('재생 수', '')\n",
    "clip_1_counts"
   ]
  },
  {
   "cell_type": "code",
   "execution_count": 51,
   "metadata": {},
   "outputs": [
    {
     "data": {
      "text/plain": [
       "'11,279'"
      ]
     },
     "execution_count": 51,
     "metadata": {},
     "output_type": "execute_result"
    }
   ],
   "source": [
    "# clip 좋아요\n",
    "clip_1_likes = clip_1.select_one('[class=\"like\"]').text.replace('좋아요 수', '')\n",
    "clip_1_likes"
   ]
  },
  {
   "cell_type": "code",
   "execution_count": 56,
   "metadata": {},
   "outputs": [
    {
     "data": {
      "text/plain": [
       "[{'title': '임영웅 vs 김수찬 ‘울면서 후회하네’♪ ✰환상의 하모니✰',\n",
       "  'program': '미스터트롯',\n",
       "  'count': '789,196',\n",
       "  'like': '11,279'},\n",
       " {'title': '☞충격의 1위☜ 임영웅! 최후의 7위는? 대박..',\n",
       "  'program': '미스터트롯',\n",
       "  'count': '357,723',\n",
       "  'like': '3,181'},\n",
       " {'title': '✲깜찍·귀염·잘생김✲ 정동원 vs 장민호 ‘파트너’♫ ',\n",
       "  'program': '미스터트롯',\n",
       "  'count': '463,556',\n",
       "  'like': '8,440'}]"
      ]
     },
     "execution_count": 56,
     "metadata": {},
     "output_type": "execute_result"
    }
   ],
   "source": [
    "# top 3 \n",
    "datas = []\n",
    "for top in top3:\n",
    "    datas.append({\n",
    "        \"title\": top.select_one('[class=\"title\"]').text.replace('\\n', ''),\n",
    "        \"program\": top.select_one('[class=\"ch\"]').text,\n",
    "        \"count\": top.select_one('[class=\"hit\"]').text.replace('재생 수', ''),\n",
    "        \"like\": top.select_one('[class=\"like\"]').text.replace('좋아요 수', ''),\n",
    "    })\n",
    "\n",
    "datas"
   ]
  },
  {
   "cell_type": "markdown",
   "metadata": {},
   "source": [
    "### top 100 데이터 가져오기"
   ]
  },
  {
   "cell_type": "code",
   "execution_count": 63,
   "metadata": {},
   "outputs": [
    {
     "data": {
      "text/plain": [
       "'14살 정동원 ✪결승진출✪ 충격의 막내온탑'"
      ]
     },
     "execution_count": 63,
     "metadata": {},
     "output_type": "execute_result"
    }
   ],
   "source": [
    "# title\n",
    "clip_4 = top100[0]\n",
    "clip_4.select_one('tooltip').text"
   ]
  },
  {
   "cell_type": "code",
   "execution_count": 68,
   "metadata": {},
   "outputs": [
    {
     "data": {
      "text/plain": [
       "'미스터트롯'"
      ]
     },
     "execution_count": 68,
     "metadata": {},
     "output_type": "execute_result"
    }
   ],
   "source": [
    "# program\n",
    "clip_4.select_one('a:nth-of-type(3)').text"
   ]
  },
  {
   "cell_type": "code",
   "execution_count": 72,
   "metadata": {},
   "outputs": [
    {
     "data": {
      "text/plain": [
       "'261,123'"
      ]
     },
     "execution_count": 72,
     "metadata": {},
     "output_type": "execute_result"
    }
   ],
   "source": [
    "# 재생수\n",
    "clip_4.select_one('[class=\"hit\"]').text.replace('재생 수', '')"
   ]
  },
  {
   "cell_type": "code",
   "execution_count": 79,
   "metadata": {},
   "outputs": [
    {
     "data": {
      "text/plain": [
       "'2,049'"
      ]
     },
     "execution_count": 79,
     "metadata": {},
     "output_type": "execute_result"
    }
   ],
   "source": [
    "# 좋아요수\n",
    "clip_4.select_one('[class=\"like\"]').text.replace('좋아요 수', '')"
   ]
  },
  {
   "cell_type": "code",
   "execution_count": 82,
   "metadata": {},
   "outputs": [
    {
     "data": {
      "text/plain": [
       "97"
      ]
     },
     "execution_count": 82,
     "metadata": {},
     "output_type": "execute_result"
    }
   ],
   "source": [
    "datas2 = []\n",
    "for top in top100:\n",
    "    datas2.append({\n",
    "        \"title\": top.select_one('tooltip').text,\n",
    "        \"program\": top.select_one('a:nth-of-type(3)').text,\n",
    "        \"count\": top.select_one('[class=\"hit\"]').text.replace('재생 수', ''),\n",
    "        \"like\": top.select_one('[class=\"like\"]').text.replace('좋아요 수', ''),\n",
    "        \n",
    "    })\n",
    "\n",
    "len(datas2)"
   ]
  },
  {
   "cell_type": "markdown",
   "metadata": {},
   "source": [
    "### top3, top100 데이터 프레임 만들기"
   ]
  },
  {
   "cell_type": "code",
   "execution_count": 86,
   "metadata": {},
   "outputs": [
    {
     "data": {
      "text/html": [
       "<div>\n",
       "<style scoped>\n",
       "    .dataframe tbody tr th:only-of-type {\n",
       "        vertical-align: middle;\n",
       "    }\n",
       "\n",
       "    .dataframe tbody tr th {\n",
       "        vertical-align: top;\n",
       "    }\n",
       "\n",
       "    .dataframe thead th {\n",
       "        text-align: right;\n",
       "    }\n",
       "</style>\n",
       "<table border=\"1\" class=\"dataframe\">\n",
       "  <thead>\n",
       "    <tr style=\"text-align: right;\">\n",
       "      <th></th>\n",
       "      <th>title</th>\n",
       "      <th>program</th>\n",
       "      <th>count</th>\n",
       "      <th>like</th>\n",
       "    </tr>\n",
       "  </thead>\n",
       "  <tbody>\n",
       "    <tr>\n",
       "      <td>0</td>\n",
       "      <td>임영웅 vs 김수찬 ‘울면서 후회하네’♪ ✰환상의 하모니✰</td>\n",
       "      <td>미스터트롯</td>\n",
       "      <td>789,196</td>\n",
       "      <td>11,279</td>\n",
       "    </tr>\n",
       "    <tr>\n",
       "      <td>1</td>\n",
       "      <td>☞충격의 1위☜ 임영웅! 최후의 7위는? 대박..</td>\n",
       "      <td>미스터트롯</td>\n",
       "      <td>357,723</td>\n",
       "      <td>3,181</td>\n",
       "    </tr>\n",
       "    <tr>\n",
       "      <td>2</td>\n",
       "      <td>✲깜찍·귀염·잘생김✲ 정동원 vs 장민호 ‘파트너’♫</td>\n",
       "      <td>미스터트롯</td>\n",
       "      <td>463,556</td>\n",
       "      <td>8,440</td>\n",
       "    </tr>\n",
       "  </tbody>\n",
       "</table>\n",
       "</div>"
      ],
      "text/plain": [
       "                              title program    count    like\n",
       "0  임영웅 vs 김수찬 ‘울면서 후회하네’♪ ✰환상의 하모니✰   미스터트롯  789,196  11,279\n",
       "1       ☞충격의 1위☜ 임영웅! 최후의 7위는? 대박..   미스터트롯  357,723   3,181\n",
       "2    ✲깜찍·귀염·잘생김✲ 정동원 vs 장민호 ‘파트너’♫    미스터트롯  463,556   8,440"
      ]
     },
     "execution_count": 86,
     "metadata": {},
     "output_type": "execute_result"
    }
   ],
   "source": [
    "top3_df = pd.DataFrame(datas, columns=['title', 'program', 'count', 'like'])\n",
    "top3_df"
   ]
  },
  {
   "cell_type": "code",
   "execution_count": 88,
   "metadata": {},
   "outputs": [
    {
     "data": {
      "text/html": [
       "<div>\n",
       "<style scoped>\n",
       "    .dataframe tbody tr th:only-of-type {\n",
       "        vertical-align: middle;\n",
       "    }\n",
       "\n",
       "    .dataframe tbody tr th {\n",
       "        vertical-align: top;\n",
       "    }\n",
       "\n",
       "    .dataframe thead th {\n",
       "        text-align: right;\n",
       "    }\n",
       "</style>\n",
       "<table border=\"1\" class=\"dataframe\">\n",
       "  <thead>\n",
       "    <tr style=\"text-align: right;\">\n",
       "      <th></th>\n",
       "      <th>title</th>\n",
       "      <th>program</th>\n",
       "      <th>count</th>\n",
       "      <th>like</th>\n",
       "    </tr>\n",
       "  </thead>\n",
       "  <tbody>\n",
       "    <tr>\n",
       "      <td>92</td>\n",
       "      <td>슈퍼맨이 돌아왔다 320회 티저 - 도플갱어네</td>\n",
       "      <td>슈퍼맨이 돌아왔다</td>\n",
       "      <td>123,454</td>\n",
       "      <td>741</td>\n",
       "    </tr>\n",
       "    <tr>\n",
       "      <td>93</td>\n",
       "      <td>[뉴스특보] 어제 518명 추가 확진…총 6,284명</td>\n",
       "      <td>연합뉴스TV</td>\n",
       "      <td>2,292</td>\n",
       "      <td>0</td>\n",
       "    </tr>\n",
       "    <tr>\n",
       "      <td>94</td>\n",
       "      <td>르노삼성 XM3 TCe260 (1.3 터보) 시승기 1부, 말해 뭐합니까? Rena...</td>\n",
       "      <td>모터리언 Motorian</td>\n",
       "      <td>11,364</td>\n",
       "      <td>24</td>\n",
       "    </tr>\n",
       "    <tr>\n",
       "      <td>95</td>\n",
       "      <td>국내 확진자 6,284명 · 사망 43명…'긴급돌봄' 연장</td>\n",
       "      <td>SBS뉴스</td>\n",
       "      <td>6,276</td>\n",
       "      <td>0</td>\n",
       "    </tr>\n",
       "    <tr>\n",
       "      <td>96</td>\n",
       "      <td>[엠돌핀] 신이 96년에 태어나게 하려다 69년생으로 실수한 게 분명,,d(･∀･○...</td>\n",
       "      <td>라디오스타</td>\n",
       "      <td>4,938</td>\n",
       "      <td>933</td>\n",
       "    </tr>\n",
       "  </tbody>\n",
       "</table>\n",
       "</div>"
      ],
      "text/plain": [
       "                                                title        program    count  \\\n",
       "92                          슈퍼맨이 돌아왔다 320회 티저 - 도플갱어네      슈퍼맨이 돌아왔다  123,454   \n",
       "93                      [뉴스특보] 어제 518명 추가 확진…총 6,284명         연합뉴스TV    2,292   \n",
       "94  르노삼성 XM3 TCe260 (1.3 터보) 시승기 1부, 말해 뭐합니까? Rena...  모터리언 Motorian   11,364   \n",
       "95                   국내 확진자 6,284명 · 사망 43명…'긴급돌봄' 연장          SBS뉴스    6,276   \n",
       "96  [엠돌핀] 신이 96년에 태어나게 하려다 69년생으로 실수한 게 분명,,d(･∀･○...          라디오스타    4,938   \n",
       "\n",
       "   like  \n",
       "92  741  \n",
       "93    0  \n",
       "94   24  \n",
       "95    0  \n",
       "96  933  "
      ]
     },
     "execution_count": 88,
     "metadata": {},
     "output_type": "execute_result"
    }
   ],
   "source": [
    "top100_df = pd.DataFrame(datas2, columns=['title', 'program', 'count', 'like'])\n",
    "top100_df.tail()"
   ]
  },
  {
   "cell_type": "code",
   "execution_count": 89,
   "metadata": {},
   "outputs": [
    {
     "data": {
      "text/html": [
       "<div>\n",
       "<style scoped>\n",
       "    .dataframe tbody tr th:only-of-type {\n",
       "        vertical-align: middle;\n",
       "    }\n",
       "\n",
       "    .dataframe tbody tr th {\n",
       "        vertical-align: top;\n",
       "    }\n",
       "\n",
       "    .dataframe thead th {\n",
       "        text-align: right;\n",
       "    }\n",
       "</style>\n",
       "<table border=\"1\" class=\"dataframe\">\n",
       "  <thead>\n",
       "    <tr style=\"text-align: right;\">\n",
       "      <th></th>\n",
       "      <th>title</th>\n",
       "      <th>program</th>\n",
       "      <th>count</th>\n",
       "      <th>like</th>\n",
       "    </tr>\n",
       "  </thead>\n",
       "  <tbody>\n",
       "    <tr>\n",
       "      <td>0</td>\n",
       "      <td>임영웅 vs 김수찬 ‘울면서 후회하네’♪ ✰환상의 하모니✰</td>\n",
       "      <td>미스터트롯</td>\n",
       "      <td>789,196</td>\n",
       "      <td>11,279</td>\n",
       "    </tr>\n",
       "    <tr>\n",
       "      <td>1</td>\n",
       "      <td>☞충격의 1위☜ 임영웅! 최후의 7위는? 대박..</td>\n",
       "      <td>미스터트롯</td>\n",
       "      <td>357,723</td>\n",
       "      <td>3,181</td>\n",
       "    </tr>\n",
       "    <tr>\n",
       "      <td>2</td>\n",
       "      <td>✲깜찍·귀염·잘생김✲ 정동원 vs 장민호 ‘파트너’♫</td>\n",
       "      <td>미스터트롯</td>\n",
       "      <td>463,556</td>\n",
       "      <td>8,440</td>\n",
       "    </tr>\n",
       "    <tr>\n",
       "      <td>0</td>\n",
       "      <td>14살 정동원 ✪결승진출✪ 충격의 막내온탑</td>\n",
       "      <td>미스터트롯</td>\n",
       "      <td>261,123</td>\n",
       "      <td>2,049</td>\n",
       "    </tr>\n",
       "    <tr>\n",
       "      <td>1</td>\n",
       "      <td>'위기 관리 능력을 선보이다' 김광현, 2이닝 2K 무실점 직캠!</td>\n",
       "      <td>김광현 (세인트루이스 카디널스)</td>\n",
       "      <td>134,478</td>\n",
       "      <td>352</td>\n",
       "    </tr>\n",
       "    <tr>\n",
       "      <td>...</td>\n",
       "      <td>...</td>\n",
       "      <td>...</td>\n",
       "      <td>...</td>\n",
       "      <td>...</td>\n",
       "    </tr>\n",
       "    <tr>\n",
       "      <td>92</td>\n",
       "      <td>슈퍼맨이 돌아왔다 320회 티저 - 도플갱어네</td>\n",
       "      <td>슈퍼맨이 돌아왔다</td>\n",
       "      <td>123,454</td>\n",
       "      <td>741</td>\n",
       "    </tr>\n",
       "    <tr>\n",
       "      <td>93</td>\n",
       "      <td>[뉴스특보] 어제 518명 추가 확진…총 6,284명</td>\n",
       "      <td>연합뉴스TV</td>\n",
       "      <td>2,292</td>\n",
       "      <td>0</td>\n",
       "    </tr>\n",
       "    <tr>\n",
       "      <td>94</td>\n",
       "      <td>르노삼성 XM3 TCe260 (1.3 터보) 시승기 1부, 말해 뭐합니까? Rena...</td>\n",
       "      <td>모터리언 Motorian</td>\n",
       "      <td>11,364</td>\n",
       "      <td>24</td>\n",
       "    </tr>\n",
       "    <tr>\n",
       "      <td>95</td>\n",
       "      <td>국내 확진자 6,284명 · 사망 43명…'긴급돌봄' 연장</td>\n",
       "      <td>SBS뉴스</td>\n",
       "      <td>6,276</td>\n",
       "      <td>0</td>\n",
       "    </tr>\n",
       "    <tr>\n",
       "      <td>96</td>\n",
       "      <td>[엠돌핀] 신이 96년에 태어나게 하려다 69년생으로 실수한 게 분명,,d(･∀･○...</td>\n",
       "      <td>라디오스타</td>\n",
       "      <td>4,938</td>\n",
       "      <td>933</td>\n",
       "    </tr>\n",
       "  </tbody>\n",
       "</table>\n",
       "<p>100 rows × 4 columns</p>\n",
       "</div>"
      ],
      "text/plain": [
       "                                                title            program  \\\n",
       "0                    임영웅 vs 김수찬 ‘울면서 후회하네’♪ ✰환상의 하모니✰              미스터트롯   \n",
       "1                         ☞충격의 1위☜ 임영웅! 최후의 7위는? 대박..              미스터트롯   \n",
       "2                      ✲깜찍·귀염·잘생김✲ 정동원 vs 장민호 ‘파트너’♫               미스터트롯   \n",
       "0                             14살 정동원 ✪결승진출✪ 충격의 막내온탑              미스터트롯   \n",
       "1                '위기 관리 능력을 선보이다' 김광현, 2이닝 2K 무실점 직캠!  김광현 (세인트루이스 카디널스)   \n",
       "..                                                ...                ...   \n",
       "92                          슈퍼맨이 돌아왔다 320회 티저 - 도플갱어네          슈퍼맨이 돌아왔다   \n",
       "93                      [뉴스특보] 어제 518명 추가 확진…총 6,284명             연합뉴스TV   \n",
       "94  르노삼성 XM3 TCe260 (1.3 터보) 시승기 1부, 말해 뭐합니까? Rena...      모터리언 Motorian   \n",
       "95                   국내 확진자 6,284명 · 사망 43명…'긴급돌봄' 연장              SBS뉴스   \n",
       "96  [엠돌핀] 신이 96년에 태어나게 하려다 69년생으로 실수한 게 분명,,d(･∀･○...              라디오스타   \n",
       "\n",
       "      count    like  \n",
       "0   789,196  11,279  \n",
       "1   357,723   3,181  \n",
       "2   463,556   8,440  \n",
       "0   261,123   2,049  \n",
       "1   134,478     352  \n",
       "..      ...     ...  \n",
       "92  123,454     741  \n",
       "93    2,292       0  \n",
       "94   11,364      24  \n",
       "95    6,276       0  \n",
       "96    4,938     933  \n",
       "\n",
       "[100 rows x 4 columns]"
      ]
     },
     "execution_count": 89,
     "metadata": {},
     "output_type": "execute_result"
    }
   ],
   "source": [
    "pd.concat([top3_df, top100_df])"
   ]
  },
  {
   "cell_type": "markdown",
   "metadata": {},
   "source": [
    "### 함수로 만들기"
   ]
  },
  {
   "cell_type": "code",
   "execution_count": 92,
   "metadata": {},
   "outputs": [],
   "source": [
    "def navertv():\n",
    "    response = requests.get('https://tv.naver.com/r/')\n",
    "    dom = BeautifulSoup(response.content, 'html.parser')\n",
    "    top3 = dom.select('#container > div > div.top_main > div > div > div > ul > li')\n",
    "    top100 = dom.select('#content > div > div > div > div')\n",
    "    \n",
    "    # top3\n",
    "    datas = []\n",
    "    for top in top3:\n",
    "        datas.append({\n",
    "            \"title\": top.select_one('[class=\"title\"]').text.replace('\\n', ''),\n",
    "            \"program\": top.select_one('[class=\"ch\"]').text,\n",
    "            \"count\": top.select_one('[class=\"hit\"]').text.replace('재생 수', ''),\n",
    "            \"like\": top.select_one('[class=\"like\"]').text.replace('좋아요 수', ''),\n",
    "            })\n",
    "    top3_df = pd.DataFrame(datas, columns=['title', 'program', 'count', 'like'])\n",
    "    \n",
    "    #top100\n",
    "    datas2 = []\n",
    "    for top in top100:\n",
    "        datas2.append({\n",
    "            \"title\": top.select_one('tooltip').text,\n",
    "            \"program\": top.select_one('a:nth-of-type(3)').text,\n",
    "            \"count\": top.select_one('[class=\"hit\"]').text.replace('재생 수', ''),\n",
    "            \"like\": top.select_one('[class=\"like\"]').text.replace('좋아요 수', ''),\n",
    "            })\n",
    "    top100_df = pd.DataFrame(datas2, columns=['title', 'program', 'count', 'like'])\n",
    "\n",
    "    return pd.concat([top3_df, top100_df]).reset_index(drop=True)"
   ]
  },
  {
   "cell_type": "code",
   "execution_count": 94,
   "metadata": {},
   "outputs": [],
   "source": [
    "df = navertv()"
   ]
  },
  {
   "cell_type": "code",
   "execution_count": 95,
   "metadata": {},
   "outputs": [
    {
     "data": {
      "text/html": [
       "<div>\n",
       "<style scoped>\n",
       "    .dataframe tbody tr th:only-of-type {\n",
       "        vertical-align: middle;\n",
       "    }\n",
       "\n",
       "    .dataframe tbody tr th {\n",
       "        vertical-align: top;\n",
       "    }\n",
       "\n",
       "    .dataframe thead th {\n",
       "        text-align: right;\n",
       "    }\n",
       "</style>\n",
       "<table border=\"1\" class=\"dataframe\">\n",
       "  <thead>\n",
       "    <tr style=\"text-align: right;\">\n",
       "      <th></th>\n",
       "      <th>title</th>\n",
       "      <th>program</th>\n",
       "      <th>count</th>\n",
       "      <th>like</th>\n",
       "    </tr>\n",
       "  </thead>\n",
       "  <tbody>\n",
       "    <tr>\n",
       "      <td>0</td>\n",
       "      <td>임영웅 vs 김수찬 ‘울면서 후회하네’♪ ✰환상의 하모니✰</td>\n",
       "      <td>미스터트롯</td>\n",
       "      <td>1,226,750</td>\n",
       "      <td>13,425</td>\n",
       "    </tr>\n",
       "    <tr>\n",
       "      <td>1</td>\n",
       "      <td>NCT 127 -영웅(英雄), (NCT 127 -Kick It)</td>\n",
       "      <td>쇼! 음악중심</td>\n",
       "      <td>31,694</td>\n",
       "      <td>3,074</td>\n",
       "    </tr>\n",
       "    <tr>\n",
       "      <td>2</td>\n",
       "      <td>[선공개] (이게 무슨 상황..?) 전종서의 돌발행동에 일동 당황 ㅋㅋㅋㅋ</td>\n",
       "      <td>아는 형님</td>\n",
       "      <td>202,256</td>\n",
       "      <td>488</td>\n",
       "    </tr>\n",
       "    <tr>\n",
       "      <td>3</td>\n",
       "      <td>밀워키 vs LA레이커스 경기 하이라이트</td>\n",
       "      <td>SPOTV_NBA</td>\n",
       "      <td>17,708</td>\n",
       "      <td>68</td>\n",
       "    </tr>\n",
       "    <tr>\n",
       "      <td>4</td>\n",
       "      <td>아이즈원 -FIESTA (IZ*ONE -FIESTA)</td>\n",
       "      <td>쇼! 음악중심</td>\n",
       "      <td>25,713</td>\n",
       "      <td>2,041</td>\n",
       "    </tr>\n",
       "    <tr>\n",
       "      <td>5</td>\n",
       "      <td>✲깜찍·귀염·잘생김✲ 정동원 vs 장민호 ‘파트너’♫</td>\n",
       "      <td>미스터트롯</td>\n",
       "      <td>678,660</td>\n",
       "      <td>10,511</td>\n",
       "    </tr>\n",
       "    <tr>\n",
       "      <td>6</td>\n",
       "      <td>[선공개] 다시 만난 핑크 텔레토ㅂ.. 아니 혁오 밴드! 유재석과 함께 치킨브라더스...</td>\n",
       "      <td>놀면 뭐하니?</td>\n",
       "      <td>48,433</td>\n",
       "      <td>281</td>\n",
       "    </tr>\n",
       "    <tr>\n",
       "      <td>7</td>\n",
       "      <td>\"카드 한 장이면…\" 온 가족 빚더미 앉힌 '악마의 속삭임'</td>\n",
       "      <td>SBS뉴스</td>\n",
       "      <td>83,317</td>\n",
       "      <td>100</td>\n",
       "    </tr>\n",
       "    <tr>\n",
       "      <td>8</td>\n",
       "      <td>[슈가송] ☆댄스곡 레전드 강림★ 자자 '버스 안에서'♪</td>\n",
       "      <td>투유 프로젝트 - 슈가맨3</td>\n",
       "      <td>345,379</td>\n",
       "      <td>3,686</td>\n",
       "    </tr>\n",
       "    <tr>\n",
       "      <td>9</td>\n",
       "      <td>이찬원 vs 나태주 ‘남자다잉’♩ 춤 좀 춘다잉? 乃</td>\n",
       "      <td>미스터트롯</td>\n",
       "      <td>361,437</td>\n",
       "      <td>6,151</td>\n",
       "    </tr>\n",
       "    <tr>\n",
       "      <td>10</td>\n",
       "      <td>이탈리아·이란 새 확진자 수 '눈덩이'…미, 200명 넘어</td>\n",
       "      <td>JTBC뉴스</td>\n",
       "      <td>35,576</td>\n",
       "      <td>26</td>\n",
       "    </tr>\n",
       "    <tr>\n",
       "      <td>11</td>\n",
       "      <td>[12회 예고] 속에서 천불이 끓어오른다…</td>\n",
       "      <td>이태원 클라쓰</td>\n",
       "      <td>409,276</td>\n",
       "      <td>1,636</td>\n",
       "    </tr>\n",
       "    <tr>\n",
       "      <td>12</td>\n",
       "      <td>[스페셜] 손꼽아 기다린 댄스곡 레전드♨ 자자 ♬히트곡 모음</td>\n",
       "      <td>투유 프로젝트 - 슈가맨3</td>\n",
       "      <td>91,156</td>\n",
       "      <td>581</td>\n",
       "    </tr>\n",
       "    <tr>\n",
       "      <td>13</td>\n",
       "      <td>※심쿵주의보※ 영탁 vs 신인선 ‘또 만났네요’♭</td>\n",
       "      <td>미스터트롯</td>\n",
       "      <td>327,806</td>\n",
       "      <td>4,744</td>\n",
       "    </tr>\n",
       "    <tr>\n",
       "      <td>14</td>\n",
       "      <td>\"하루종일 먹으러 다니네\"…놀림거리 된 확진자 동선</td>\n",
       "      <td>SBS뉴스</td>\n",
       "      <td>78,590</td>\n",
       "      <td>20</td>\n",
       "    </tr>\n",
       "    <tr>\n",
       "      <td>15</td>\n",
       "      <td>아이즈원 -SPACESHIP (IZ*ONE -SPACESHIP)</td>\n",
       "      <td>쇼! 음악중심</td>\n",
       "      <td>15,166</td>\n",
       "      <td>1,676</td>\n",
       "    </tr>\n",
       "    <tr>\n",
       "      <td>16</td>\n",
       "      <td>류지광vs김호중 ‘다시 한번만’♪ 동굴과 천상의 하모니</td>\n",
       "      <td>미스터트롯</td>\n",
       "      <td>272,351</td>\n",
       "      <td>5,187</td>\n",
       "    </tr>\n",
       "    <tr>\n",
       "      <td>17</td>\n",
       "      <td>VICTON 빅톤 Howling (하울링) Choreography spoiler</td>\n",
       "      <td>Play M ENTERTAINMENT</td>\n",
       "      <td>33,731</td>\n",
       "      <td>1,002</td>\n",
       "    </tr>\n",
       "    <tr>\n",
       "      <td>18</td>\n",
       "      <td>‘17년 차 베테랑’ 르브론 제임스의 엄청난 원핸드 슬램</td>\n",
       "      <td>SPOTV_NBA</td>\n",
       "      <td>36,916</td>\n",
       "      <td>111</td>\n",
       "    </tr>\n",
       "    <tr>\n",
       "      <td>19</td>\n",
       "      <td>＜초보 자취러 세정&amp;웰컴 투 조지나 마켓＞ 나 혼자 산다 337회 예고</td>\n",
       "      <td>나 혼자 산다</td>\n",
       "      <td>127,435</td>\n",
       "      <td>980</td>\n",
       "    </tr>\n",
       "    <tr>\n",
       "      <td>20</td>\n",
       "      <td>류현진 특집10. 역대 2위 될뻔한 ERA | 김형준</td>\n",
       "      <td>김형준의 인사이드MLB</td>\n",
       "      <td>13,554</td>\n",
       "      <td>30</td>\n",
       "    </tr>\n",
       "    <tr>\n",
       "      <td>21</td>\n",
       "      <td>임영웅 ‘보라빛 엽서’♩ 심금을 울리는 목소리 ˘-˘乃</td>\n",
       "      <td>미스터트롯</td>\n",
       "      <td>2,018,106</td>\n",
       "      <td>19,465</td>\n",
       "    </tr>\n",
       "    <tr>\n",
       "      <td>22</td>\n",
       "      <td>[맴찢 엔딩] 고백 단호하게 거절한 박서준 ＂나 좋아하지 마…＂</td>\n",
       "      <td>이태원 클라쓰</td>\n",
       "      <td>352,387</td>\n",
       "      <td>2,782</td>\n",
       "    </tr>\n",
       "    <tr>\n",
       "      <td>23</td>\n",
       "      <td>[아카이브 프로젝트 모던코리아] 5편 왕조</td>\n",
       "      <td>다큐 인사이트</td>\n",
       "      <td>26,832</td>\n",
       "      <td>51</td>\n",
       "    </tr>\n",
       "    <tr>\n",
       "      <td>24</td>\n",
       "      <td>비례대표 낸 정당만 광고·TV토론 허용…고민 빠진 통합당</td>\n",
       "      <td>JTBC뉴스</td>\n",
       "      <td>20,194</td>\n",
       "      <td>5</td>\n",
       "    </tr>\n",
       "    <tr>\n",
       "      <td>25</td>\n",
       "      <td>나은&amp;진솔(에이프릴) -시간차 , (NAEUN &amp; JINSOL(APRIL) -Mat...</td>\n",
       "      <td>쇼! 음악중심</td>\n",
       "      <td>11,578</td>\n",
       "      <td>337</td>\n",
       "    </tr>\n",
       "    <tr>\n",
       "      <td>26</td>\n",
       "      <td>화사의 뉴하우스 입성! 안전을 위해 새 집으로 이사?!</td>\n",
       "      <td>나 혼자 산다</td>\n",
       "      <td>294,027</td>\n",
       "      <td>1,281</td>\n",
       "    </tr>\n",
       "    <tr>\n",
       "      <td>27</td>\n",
       "      <td>이것은 美味! 차돌박이 이불을 덮은 화사의 유부초밥♨</td>\n",
       "      <td>나 혼자 산다</td>\n",
       "      <td>156,010</td>\n",
       "      <td>857</td>\n",
       "    </tr>\n",
       "    <tr>\n",
       "      <td>28</td>\n",
       "      <td>울지 말아요ㅠㅠ 마음이 따뜻한 당신, 백시ㅇ...아.. 아니..이시언</td>\n",
       "      <td>나 혼자 산다</td>\n",
       "      <td>156,469</td>\n",
       "      <td>1,320</td>\n",
       "    </tr>\n",
       "    <tr>\n",
       "      <td>29</td>\n",
       "      <td>문예찬이 내 일상에서 사라졌다. 니가 없으니까 너무 아파 [리얼:타임:러브2] EP 7</td>\n",
       "      <td>킼TV</td>\n",
       "      <td>321,328</td>\n",
       "      <td>516</td>\n",
       "    </tr>\n",
       "  </tbody>\n",
       "</table>\n",
       "</div>"
      ],
      "text/plain": [
       "                                                title               program  \\\n",
       "0                    임영웅 vs 김수찬 ‘울면서 후회하네’♪ ✰환상의 하모니✰                 미스터트롯   \n",
       "1                 NCT 127 -영웅(英雄), (NCT 127 -Kick It)               쇼! 음악중심   \n",
       "2           [선공개] (이게 무슨 상황..?) 전종서의 돌발행동에 일동 당황 ㅋㅋㅋㅋ                 아는 형님   \n",
       "3                              밀워키 vs LA레이커스 경기 하이라이트             SPOTV_NBA   \n",
       "4                       아이즈원 -FIESTA (IZ*ONE -FIESTA)               쇼! 음악중심   \n",
       "5                      ✲깜찍·귀염·잘생김✲ 정동원 vs 장민호 ‘파트너’♫                  미스터트롯   \n",
       "6   [선공개] 다시 만난 핑크 텔레토ㅂ.. 아니 혁오 밴드! 유재석과 함께 치킨브라더스...               놀면 뭐하니?   \n",
       "7                   \"카드 한 장이면…\" 온 가족 빚더미 앉힌 '악마의 속삭임'                 SBS뉴스   \n",
       "8                     [슈가송] ☆댄스곡 레전드 강림★ 자자 '버스 안에서'♪        투유 프로젝트 - 슈가맨3   \n",
       "9                       이찬원 vs 나태주 ‘남자다잉’♩ 춤 좀 춘다잉? 乃                 미스터트롯   \n",
       "10                   이탈리아·이란 새 확진자 수 '눈덩이'…미, 200명 넘어                JTBC뉴스   \n",
       "11                            [12회 예고] 속에서 천불이 끓어오른다…               이태원 클라쓰   \n",
       "12                  [스페셜] 손꼽아 기다린 댄스곡 레전드♨ 자자 ♬히트곡 모음        투유 프로젝트 - 슈가맨3   \n",
       "13                        ※심쿵주의보※ 영탁 vs 신인선 ‘또 만났네요’♭                 미스터트롯   \n",
       "14                       \"하루종일 먹으러 다니네\"…놀림거리 된 확진자 동선                 SBS뉴스   \n",
       "15                아이즈원 -SPACESHIP (IZ*ONE -SPACESHIP)               쇼! 음악중심   \n",
       "16                     류지광vs김호중 ‘다시 한번만’♪ 동굴과 천상의 하모니                 미스터트롯   \n",
       "17       VICTON 빅톤 Howling (하울링) Choreography spoiler  Play M ENTERTAINMENT   \n",
       "18                    ‘17년 차 베테랑’ 르브론 제임스의 엄청난 원핸드 슬램             SPOTV_NBA   \n",
       "19            ＜초보 자취러 세정&웰컴 투 조지나 마켓＞ 나 혼자 산다 337회 예고               나 혼자 산다   \n",
       "20                      류현진 특집10. 역대 2위 될뻔한 ERA | 김형준          김형준의 인사이드MLB   \n",
       "21                     임영웅 ‘보라빛 엽서’♩ 심금을 울리는 목소리 ˘-˘乃                 미스터트롯   \n",
       "22                [맴찢 엔딩] 고백 단호하게 거절한 박서준 ＂나 좋아하지 마…＂               이태원 클라쓰   \n",
       "23                            [아카이브 프로젝트 모던코리아] 5편 왕조               다큐 인사이트   \n",
       "24                    비례대표 낸 정당만 광고·TV토론 허용…고민 빠진 통합당                JTBC뉴스   \n",
       "25  나은&진솔(에이프릴) -시간차 , (NAEUN & JINSOL(APRIL) -Mat...               쇼! 음악중심   \n",
       "26                     화사의 뉴하우스 입성! 안전을 위해 새 집으로 이사?!               나 혼자 산다   \n",
       "27                      이것은 美味! 차돌박이 이불을 덮은 화사의 유부초밥♨               나 혼자 산다   \n",
       "28             울지 말아요ㅠㅠ 마음이 따뜻한 당신, 백시ㅇ...아.. 아니..이시언               나 혼자 산다   \n",
       "29   문예찬이 내 일상에서 사라졌다. 니가 없으니까 너무 아파 [리얼:타임:러브2] EP 7                   킼TV   \n",
       "\n",
       "        count    like  \n",
       "0   1,226,750  13,425  \n",
       "1      31,694   3,074  \n",
       "2     202,256     488  \n",
       "3      17,708      68  \n",
       "4      25,713   2,041  \n",
       "5     678,660  10,511  \n",
       "6      48,433     281  \n",
       "7      83,317     100  \n",
       "8     345,379   3,686  \n",
       "9     361,437   6,151  \n",
       "10     35,576      26  \n",
       "11    409,276   1,636  \n",
       "12     91,156     581  \n",
       "13    327,806   4,744  \n",
       "14     78,590      20  \n",
       "15     15,166   1,676  \n",
       "16    272,351   5,187  \n",
       "17     33,731   1,002  \n",
       "18     36,916     111  \n",
       "19    127,435     980  \n",
       "20     13,554      30  \n",
       "21  2,018,106  19,465  \n",
       "22    352,387   2,782  \n",
       "23     26,832      51  \n",
       "24     20,194       5  \n",
       "25     11,578     337  \n",
       "26    294,027   1,281  \n",
       "27    156,010     857  \n",
       "28    156,469   1,320  \n",
       "29    321,328     516  "
      ]
     },
     "execution_count": 95,
     "metadata": {},
     "output_type": "execute_result"
    }
   ],
   "source": [
    "df.iloc[:30]"
   ]
  },
  {
   "cell_type": "code",
   "execution_count": null,
   "metadata": {},
   "outputs": [],
   "source": []
  }
 ],
 "metadata": {
  "kernelspec": {
   "display_name": "Python 3",
   "language": "python",
   "name": "python3"
  },
  "language_info": {
   "codemirror_mode": {
    "name": "ipython",
    "version": 3
   },
   "file_extension": ".py",
   "mimetype": "text/x-python",
   "name": "python",
   "nbconvert_exporter": "python",
   "pygments_lexer": "ipython3",
   "version": "3.7.4"
  }
 },
 "nbformat": 4,
 "nbformat_minor": 2
}
